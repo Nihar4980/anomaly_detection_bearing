{
 "cells": [
  {
   "cell_type": "markdown",
   "id": "933eba09",
   "metadata": {},
   "source": [
    "# Machine learning for anomaly detection and condition monitoring"
   ]
  },
  {
   "cell_type": "markdown",
   "id": "71e4b4ee",
   "metadata": {},
   "source": [
    " Download dataset from https://www.kaggle.com/datasets/vinayak123tyagi/bearing-dataset\n"
   ]
  },
  {
   "cell_type": "code",
   "execution_count": 52,
   "id": "7d02027e",
   "metadata": {},
   "outputs": [],
   "source": [
    "# Common imports\n",
    "import os\n",
    "import pandas as pd\n",
    "import numpy as np\n",
    "from sklearn import preprocessing\n",
    "import seaborn as sns\n",
    "sns.set(color_codes=True)\n",
    "import matplotlib.pyplot as plt\n",
    "%matplotlib inline\n",
    "\n",
    "import warnings\n",
    "warnings.filterwarnings('ignore')\n",
    "\n",
    "import tensorflow\n",
    "from tensorflow import keras\n",
    "from tensorflow.keras import Sequential\n",
    "from tensorflow.keras.layers import Dense,Flatten,BatchNormalization,Dropout\n",
    "from tensorflow.keras.callbacks import EarlyStopping\n"
   ]
  },
  {
   "cell_type": "code",
   "execution_count": 2,
   "id": "d54ff3ff",
   "metadata": {},
   "outputs": [
    {
     "data": {
      "text/html": [
       "<div>\n",
       "<style scoped>\n",
       "    .dataframe tbody tr th:only-of-type {\n",
       "        vertical-align: middle;\n",
       "    }\n",
       "\n",
       "    .dataframe tbody tr th {\n",
       "        vertical-align: top;\n",
       "    }\n",
       "\n",
       "    .dataframe thead th {\n",
       "        text-align: right;\n",
       "    }\n",
       "</style>\n",
       "<table border=\"1\" class=\"dataframe\">\n",
       "  <thead>\n",
       "    <tr style=\"text-align: right;\">\n",
       "      <th></th>\n",
       "      <th>0</th>\n",
       "      <th>1</th>\n",
       "      <th>2</th>\n",
       "      <th>3</th>\n",
       "    </tr>\n",
       "  </thead>\n",
       "  <tbody>\n",
       "    <tr>\n",
       "      <th>0</th>\n",
       "      <td>-0.049</td>\n",
       "      <td>-0.071</td>\n",
       "      <td>-0.132</td>\n",
       "      <td>-0.010</td>\n",
       "    </tr>\n",
       "    <tr>\n",
       "      <th>1</th>\n",
       "      <td>-0.042</td>\n",
       "      <td>-0.073</td>\n",
       "      <td>-0.007</td>\n",
       "      <td>-0.105</td>\n",
       "    </tr>\n",
       "    <tr>\n",
       "      <th>2</th>\n",
       "      <td>0.015</td>\n",
       "      <td>0.000</td>\n",
       "      <td>0.007</td>\n",
       "      <td>0.000</td>\n",
       "    </tr>\n",
       "    <tr>\n",
       "      <th>3</th>\n",
       "      <td>-0.051</td>\n",
       "      <td>0.020</td>\n",
       "      <td>-0.002</td>\n",
       "      <td>0.100</td>\n",
       "    </tr>\n",
       "    <tr>\n",
       "      <th>4</th>\n",
       "      <td>-0.107</td>\n",
       "      <td>0.010</td>\n",
       "      <td>0.127</td>\n",
       "      <td>0.054</td>\n",
       "    </tr>\n",
       "    <tr>\n",
       "      <th>...</th>\n",
       "      <td>...</td>\n",
       "      <td>...</td>\n",
       "      <td>...</td>\n",
       "      <td>...</td>\n",
       "    </tr>\n",
       "    <tr>\n",
       "      <th>20475</th>\n",
       "      <td>0.049</td>\n",
       "      <td>-0.051</td>\n",
       "      <td>-0.039</td>\n",
       "      <td>-0.044</td>\n",
       "    </tr>\n",
       "    <tr>\n",
       "      <th>20476</th>\n",
       "      <td>0.037</td>\n",
       "      <td>0.061</td>\n",
       "      <td>0.115</td>\n",
       "      <td>0.007</td>\n",
       "    </tr>\n",
       "    <tr>\n",
       "      <th>20477</th>\n",
       "      <td>-0.012</td>\n",
       "      <td>0.007</td>\n",
       "      <td>0.056</td>\n",
       "      <td>-0.007</td>\n",
       "    </tr>\n",
       "    <tr>\n",
       "      <th>20478</th>\n",
       "      <td>-0.012</td>\n",
       "      <td>0.093</td>\n",
       "      <td>0.017</td>\n",
       "      <td>-0.044</td>\n",
       "    </tr>\n",
       "    <tr>\n",
       "      <th>20479</th>\n",
       "      <td>0.020</td>\n",
       "      <td>0.076</td>\n",
       "      <td>-0.042</td>\n",
       "      <td>-0.029</td>\n",
       "    </tr>\n",
       "  </tbody>\n",
       "</table>\n",
       "<p>20480 rows × 4 columns</p>\n",
       "</div>"
      ],
      "text/plain": [
       "           0      1      2      3\n",
       "0     -0.049 -0.071 -0.132 -0.010\n",
       "1     -0.042 -0.073 -0.007 -0.105\n",
       "2      0.015  0.000  0.007  0.000\n",
       "3     -0.051  0.020 -0.002  0.100\n",
       "4     -0.107  0.010  0.127  0.054\n",
       "...      ...    ...    ...    ...\n",
       "20475  0.049 -0.051 -0.039 -0.044\n",
       "20476  0.037  0.061  0.115  0.007\n",
       "20477 -0.012  0.007  0.056 -0.007\n",
       "20478 -0.012  0.093  0.017 -0.044\n",
       "20479  0.020  0.076 -0.042 -0.029\n",
       "\n",
       "[20480 rows x 4 columns]"
      ]
     },
     "execution_count": 2,
     "metadata": {},
     "output_type": "execute_result"
    }
   ],
   "source": [
    "data = pd.read_csv('C:/Users/Nihar/Desktop/PhD Course Work/Condition Monitoring/Condition monitoring/2nd_test/2004.02.12.10.32.39',sep='\\t',header=None)\n",
    "data"
   ]
  },
  {
   "cell_type": "code",
   "execution_count": 3,
   "id": "2ca08c45",
   "metadata": {},
   "outputs": [
    {
     "data": {
      "text/plain": [
       "0    0.058332\n",
       "1    0.071832\n",
       "2    0.083244\n",
       "3    0.043065\n",
       "dtype: float64"
      ]
     },
     "execution_count": 3,
     "metadata": {},
     "output_type": "execute_result"
    }
   ],
   "source": [
    "data.abs().mean()"
   ]
  },
  {
   "cell_type": "code",
   "execution_count": 4,
   "id": "430c8f57",
   "metadata": {},
   "outputs": [],
   "source": [
    "data_file = ['2nd_test','3rd_test']\n",
    "merged_data = pd.DataFrame()\n",
    "for data_dir in data_file:\n",
    "    for filename in os.listdir(data_dir):\n",
    "        #print(filename)\n",
    "        dataset=pd.read_csv(os.path.join(data_dir, filename), sep='\\t')\n",
    "        dataset_mean_abs = np.array(dataset.abs().mean())\n",
    "        dataset_mean_abs = pd.DataFrame(dataset_mean_abs.reshape(1,4))\n",
    "        dataset_mean_abs.index = [filename]\n",
    "        merged_data = merged_data.append(dataset_mean_abs)\n",
    "\n",
    "merged_data.columns = ['Bearing 1','Bearing 2','Bearing 3','Bearing 4']"
   ]
  },
  {
   "cell_type": "code",
   "execution_count": 7,
   "id": "4f157e7c",
   "metadata": {},
   "outputs": [
    {
     "data": {
      "text/html": [
       "<div>\n",
       "<style scoped>\n",
       "    .dataframe tbody tr th:only-of-type {\n",
       "        vertical-align: middle;\n",
       "    }\n",
       "\n",
       "    .dataframe tbody tr th {\n",
       "        vertical-align: top;\n",
       "    }\n",
       "\n",
       "    .dataframe thead th {\n",
       "        text-align: right;\n",
       "    }\n",
       "</style>\n",
       "<table border=\"1\" class=\"dataframe\">\n",
       "  <thead>\n",
       "    <tr style=\"text-align: right;\">\n",
       "      <th></th>\n",
       "      <th>Bearing 1</th>\n",
       "      <th>Bearing 2</th>\n",
       "      <th>Bearing 3</th>\n",
       "      <th>Bearing 4</th>\n",
       "    </tr>\n",
       "  </thead>\n",
       "  <tbody>\n",
       "    <tr>\n",
       "      <th>2004-02-12 10:32:39</th>\n",
       "      <td>0.058333</td>\n",
       "      <td>0.071832</td>\n",
       "      <td>0.083242</td>\n",
       "      <td>0.043067</td>\n",
       "    </tr>\n",
       "    <tr>\n",
       "      <th>2004-02-12 10:42:39</th>\n",
       "      <td>0.058995</td>\n",
       "      <td>0.074006</td>\n",
       "      <td>0.084435</td>\n",
       "      <td>0.044541</td>\n",
       "    </tr>\n",
       "    <tr>\n",
       "      <th>2004-02-12 10:52:39</th>\n",
       "      <td>0.060236</td>\n",
       "      <td>0.074227</td>\n",
       "      <td>0.083926</td>\n",
       "      <td>0.044443</td>\n",
       "    </tr>\n",
       "    <tr>\n",
       "      <th>2004-02-12 11:02:39</th>\n",
       "      <td>0.061455</td>\n",
       "      <td>0.073844</td>\n",
       "      <td>0.084457</td>\n",
       "      <td>0.045081</td>\n",
       "    </tr>\n",
       "    <tr>\n",
       "      <th>2004-02-12 11:12:39</th>\n",
       "      <td>0.061361</td>\n",
       "      <td>0.075609</td>\n",
       "      <td>0.082837</td>\n",
       "      <td>0.045118</td>\n",
       "    </tr>\n",
       "    <tr>\n",
       "      <th>...</th>\n",
       "      <td>...</td>\n",
       "      <td>...</td>\n",
       "      <td>...</td>\n",
       "      <td>...</td>\n",
       "    </tr>\n",
       "    <tr>\n",
       "      <th>2004-04-18 02:02:55</th>\n",
       "      <td>0.122483</td>\n",
       "      <td>0.188266</td>\n",
       "      <td>0.342773</td>\n",
       "      <td>0.195169</td>\n",
       "    </tr>\n",
       "    <tr>\n",
       "      <th>2004-04-18 02:12:55</th>\n",
       "      <td>0.110250</td>\n",
       "      <td>0.166027</td>\n",
       "      <td>0.331777</td>\n",
       "      <td>0.205829</td>\n",
       "    </tr>\n",
       "    <tr>\n",
       "      <th>2004-04-18 02:22:55</th>\n",
       "      <td>0.115789</td>\n",
       "      <td>0.201599</td>\n",
       "      <td>0.404317</td>\n",
       "      <td>0.222174</td>\n",
       "    </tr>\n",
       "    <tr>\n",
       "      <th>2004-04-18 02:32:55</th>\n",
       "      <td>0.119909</td>\n",
       "      <td>0.199330</td>\n",
       "      <td>0.543770</td>\n",
       "      <td>0.229026</td>\n",
       "    </tr>\n",
       "    <tr>\n",
       "      <th>2004-04-18 02:42:55</th>\n",
       "      <td>0.001533</td>\n",
       "      <td>0.002441</td>\n",
       "      <td>0.003663</td>\n",
       "      <td>0.001428</td>\n",
       "    </tr>\n",
       "  </tbody>\n",
       "</table>\n",
       "<p>7308 rows × 4 columns</p>\n",
       "</div>"
      ],
      "text/plain": [
       "                     Bearing 1  Bearing 2  Bearing 3  Bearing 4\n",
       "2004-02-12 10:32:39   0.058333   0.071832   0.083242   0.043067\n",
       "2004-02-12 10:42:39   0.058995   0.074006   0.084435   0.044541\n",
       "2004-02-12 10:52:39   0.060236   0.074227   0.083926   0.044443\n",
       "2004-02-12 11:02:39   0.061455   0.073844   0.084457   0.045081\n",
       "2004-02-12 11:12:39   0.061361   0.075609   0.082837   0.045118\n",
       "...                        ...        ...        ...        ...\n",
       "2004-04-18 02:02:55   0.122483   0.188266   0.342773   0.195169\n",
       "2004-04-18 02:12:55   0.110250   0.166027   0.331777   0.205829\n",
       "2004-04-18 02:22:55   0.115789   0.201599   0.404317   0.222174\n",
       "2004-04-18 02:32:55   0.119909   0.199330   0.543770   0.229026\n",
       "2004-04-18 02:42:55   0.001533   0.002441   0.003663   0.001428\n",
       "\n",
       "[7308 rows x 4 columns]"
      ]
     },
     "execution_count": 7,
     "metadata": {},
     "output_type": "execute_result"
    }
   ],
   "source": [
    "merged_data"
   ]
  },
  {
   "cell_type": "code",
   "execution_count": 8,
   "id": "0b587d25",
   "metadata": {},
   "outputs": [
    {
     "data": {
      "text/html": [
       "<div>\n",
       "<style scoped>\n",
       "    .dataframe tbody tr th:only-of-type {\n",
       "        vertical-align: middle;\n",
       "    }\n",
       "\n",
       "    .dataframe tbody tr th {\n",
       "        vertical-align: top;\n",
       "    }\n",
       "\n",
       "    .dataframe thead th {\n",
       "        text-align: right;\n",
       "    }\n",
       "</style>\n",
       "<table border=\"1\" class=\"dataframe\">\n",
       "  <thead>\n",
       "    <tr style=\"text-align: right;\">\n",
       "      <th></th>\n",
       "      <th>Bearing 1</th>\n",
       "      <th>Bearing 2</th>\n",
       "      <th>Bearing 3</th>\n",
       "      <th>Bearing 4</th>\n",
       "    </tr>\n",
       "  </thead>\n",
       "  <tbody>\n",
       "    <tr>\n",
       "      <th>2004-02-12 10:32:39</th>\n",
       "      <td>0.058333</td>\n",
       "      <td>0.071832</td>\n",
       "      <td>0.083242</td>\n",
       "      <td>0.043067</td>\n",
       "    </tr>\n",
       "    <tr>\n",
       "      <th>2004-02-12 10:42:39</th>\n",
       "      <td>0.058995</td>\n",
       "      <td>0.074006</td>\n",
       "      <td>0.084435</td>\n",
       "      <td>0.044541</td>\n",
       "    </tr>\n",
       "    <tr>\n",
       "      <th>2004-02-12 10:52:39</th>\n",
       "      <td>0.060236</td>\n",
       "      <td>0.074227</td>\n",
       "      <td>0.083926</td>\n",
       "      <td>0.044443</td>\n",
       "    </tr>\n",
       "    <tr>\n",
       "      <th>2004-02-12 11:02:39</th>\n",
       "      <td>0.061455</td>\n",
       "      <td>0.073844</td>\n",
       "      <td>0.084457</td>\n",
       "      <td>0.045081</td>\n",
       "    </tr>\n",
       "    <tr>\n",
       "      <th>2004-02-12 11:12:39</th>\n",
       "      <td>0.061361</td>\n",
       "      <td>0.075609</td>\n",
       "      <td>0.082837</td>\n",
       "      <td>0.045118</td>\n",
       "    </tr>\n",
       "  </tbody>\n",
       "</table>\n",
       "</div>"
      ],
      "text/plain": [
       "                     Bearing 1  Bearing 2  Bearing 3  Bearing 4\n",
       "2004-02-12 10:32:39   0.058333   0.071832   0.083242   0.043067\n",
       "2004-02-12 10:42:39   0.058995   0.074006   0.084435   0.044541\n",
       "2004-02-12 10:52:39   0.060236   0.074227   0.083926   0.044443\n",
       "2004-02-12 11:02:39   0.061455   0.073844   0.084457   0.045081\n",
       "2004-02-12 11:12:39   0.061361   0.075609   0.082837   0.045118"
      ]
     },
     "execution_count": 8,
     "metadata": {},
     "output_type": "execute_result"
    }
   ],
   "source": [
    "merged_data.index = pd.to_datetime(merged_data.index, format='%Y.%m.%d.%H.%M.%S')\n",
    "merged_data = merged_data.sort_index()\n",
    "merged_data.to_csv('Bearing_dataset.csv')\n",
    "merged_data.head()"
   ]
  },
  {
   "cell_type": "markdown",
   "id": "d8ba3cdd",
   "metadata": {},
   "source": [
    "# Traing and testing splitt"
   ]
  },
  {
   "cell_type": "code",
   "execution_count": 10,
   "id": "11447948",
   "metadata": {},
   "outputs": [
    {
     "data": {
      "text/plain": [
       "7308"
      ]
     },
     "execution_count": 10,
     "metadata": {},
     "output_type": "execute_result"
    }
   ],
   "source": [
    "len(merged_data.index)"
   ]
  },
  {
   "cell_type": "code",
   "execution_count": 15,
   "id": "9952e4c2",
   "metadata": {},
   "outputs": [
    {
     "data": {
      "text/plain": [
       "6037"
      ]
     },
     "execution_count": 15,
     "metadata": {},
     "output_type": "execute_result"
    }
   ],
   "source": [
    "# Total data is 7308, around 80% data is saved as train, 20% as test\n",
    "len(merged_data[:'2004-04-08 23:59:59'])"
   ]
  },
  {
   "cell_type": "code",
   "execution_count": 16,
   "id": "116b832d",
   "metadata": {},
   "outputs": [
    {
     "data": {
      "text/plain": [
       "<Axes: >"
      ]
     },
     "execution_count": 16,
     "metadata": {},
     "output_type": "execute_result"
    },
    {
     "data": {
      "image/png": "[encoded data removed]",
      "text/plain": [
       "<Figure size 1200x600 with 1 Axes>"
      ]
     },
     "metadata": {},
     "output_type": "display_data"
    }
   ],
   "source": [
    "dataset_train = merged_data[:'2004-04-08 23:59:59']\n",
    "dataset_test = merged_data['2004-04-09 00:00:00':]\n",
    "dataset_train.plot(figsize = (12,6))"
   ]
  },
  {
   "cell_type": "code",
   "execution_count": 17,
   "id": "510e83b3",
   "metadata": {},
   "outputs": [
    {
     "data": {
      "text/plain": [
       "<Axes: >"
      ]
     },
     "execution_count": 17,
     "metadata": {},
     "output_type": "execute_result"
    },
    {
     "data": {
      "image/png": "[encoded data removed]",
      "text/plain": [
       "<Figure size 1200x600 with 1 Axes>"
      ]
     },
     "metadata": {},
     "output_type": "display_data"
    }
   ],
   "source": [
    "dataset_test.plot(figsize = (12,6))"
   ]
  },
  {
   "cell_type": "code",
   "execution_count": 18,
   "id": "b116bcc5",
   "metadata": {},
   "outputs": [],
   "source": [
    "scaler = preprocessing.MinMaxScaler()\n",
    "\n",
    "X_train = pd.DataFrame(scaler.fit_transform(dataset_train), \n",
    "                              columns=dataset_train.columns, \n",
    "                              index=dataset_train.index)\n",
    "# Random shuffle training data\n",
    "X_train.sample(frac=1)\n",
    "\n",
    "X_test = pd.DataFrame(scaler.transform(dataset_test), \n",
    "                             columns=dataset_test.columns, \n",
    "                             index=dataset_test.index)"
   ]
  },
  {
   "cell_type": "code",
   "execution_count": 19,
   "id": "df9ac623",
   "metadata": {},
   "outputs": [
    {
     "data": {
      "text/html": [
       "<div>\n",
       "<style scoped>\n",
       "    .dataframe tbody tr th:only-of-type {\n",
       "        vertical-align: middle;\n",
       "    }\n",
       "\n",
       "    .dataframe tbody tr th {\n",
       "        vertical-align: top;\n",
       "    }\n",
       "\n",
       "    .dataframe thead th {\n",
       "        text-align: right;\n",
       "    }\n",
       "</style>\n",
       "<table border=\"1\" class=\"dataframe\">\n",
       "  <thead>\n",
       "    <tr style=\"text-align: right;\">\n",
       "      <th></th>\n",
       "      <th>Bearing 1</th>\n",
       "      <th>Bearing 2</th>\n",
       "      <th>Bearing 3</th>\n",
       "      <th>Bearing 4</th>\n",
       "    </tr>\n",
       "  </thead>\n",
       "  <tbody>\n",
       "    <tr>\n",
       "      <th>2004-02-12 10:32:39</th>\n",
       "      <td>0.126423</td>\n",
       "      <td>0.443462</td>\n",
       "      <td>0.548041</td>\n",
       "      <td>0.352522</td>\n",
       "    </tr>\n",
       "    <tr>\n",
       "      <th>2004-02-12 10:42:39</th>\n",
       "      <td>0.127888</td>\n",
       "      <td>0.457029</td>\n",
       "      <td>0.555967</td>\n",
       "      <td>0.365087</td>\n",
       "    </tr>\n",
       "    <tr>\n",
       "      <th>2004-02-12 10:52:39</th>\n",
       "      <td>0.130633</td>\n",
       "      <td>0.458408</td>\n",
       "      <td>0.552584</td>\n",
       "      <td>0.364252</td>\n",
       "    </tr>\n",
       "    <tr>\n",
       "      <th>2004-02-12 11:02:39</th>\n",
       "      <td>0.133329</td>\n",
       "      <td>0.456021</td>\n",
       "      <td>0.556113</td>\n",
       "      <td>0.369692</td>\n",
       "    </tr>\n",
       "    <tr>\n",
       "      <th>2004-02-12 11:12:39</th>\n",
       "      <td>0.133120</td>\n",
       "      <td>0.467033</td>\n",
       "      <td>0.545350</td>\n",
       "      <td>0.370007</td>\n",
       "    </tr>\n",
       "    <tr>\n",
       "      <th>...</th>\n",
       "      <td>...</td>\n",
       "      <td>...</td>\n",
       "      <td>...</td>\n",
       "      <td>...</td>\n",
       "    </tr>\n",
       "    <tr>\n",
       "      <th>2004-04-08 23:11:57</th>\n",
       "      <td>0.129935</td>\n",
       "      <td>0.381410</td>\n",
       "      <td>0.364507</td>\n",
       "      <td>0.368443</td>\n",
       "    </tr>\n",
       "    <tr>\n",
       "      <th>2004-04-08 23:21:57</th>\n",
       "      <td>0.125225</td>\n",
       "      <td>0.374089</td>\n",
       "      <td>0.356569</td>\n",
       "      <td>0.358697</td>\n",
       "    </tr>\n",
       "    <tr>\n",
       "      <th>2004-04-08 23:31:57</th>\n",
       "      <td>0.127372</td>\n",
       "      <td>0.376324</td>\n",
       "      <td>0.370050</td>\n",
       "      <td>0.359149</td>\n",
       "    </tr>\n",
       "    <tr>\n",
       "      <th>2004-04-08 23:41:57</th>\n",
       "      <td>0.127659</td>\n",
       "      <td>0.378453</td>\n",
       "      <td>0.366789</td>\n",
       "      <td>0.363315</td>\n",
       "    </tr>\n",
       "    <tr>\n",
       "      <th>2004-04-08 23:51:57</th>\n",
       "      <td>0.129250</td>\n",
       "      <td>0.382772</td>\n",
       "      <td>0.355794</td>\n",
       "      <td>0.369971</td>\n",
       "    </tr>\n",
       "  </tbody>\n",
       "</table>\n",
       "<p>6037 rows × 4 columns</p>\n",
       "</div>"
      ],
      "text/plain": [
       "                     Bearing 1  Bearing 2  Bearing 3  Bearing 4\n",
       "2004-02-12 10:32:39   0.126423   0.443462   0.548041   0.352522\n",
       "2004-02-12 10:42:39   0.127888   0.457029   0.555967   0.365087\n",
       "2004-02-12 10:52:39   0.130633   0.458408   0.552584   0.364252\n",
       "2004-02-12 11:02:39   0.133329   0.456021   0.556113   0.369692\n",
       "2004-02-12 11:12:39   0.133120   0.467033   0.545350   0.370007\n",
       "...                        ...        ...        ...        ...\n",
       "2004-04-08 23:11:57   0.129935   0.381410   0.364507   0.368443\n",
       "2004-04-08 23:21:57   0.125225   0.374089   0.356569   0.358697\n",
       "2004-04-08 23:31:57   0.127372   0.376324   0.370050   0.359149\n",
       "2004-04-08 23:41:57   0.127659   0.378453   0.366789   0.363315\n",
       "2004-04-08 23:51:57   0.129250   0.382772   0.355794   0.369971\n",
       "\n",
       "[6037 rows x 4 columns]"
      ]
     },
     "execution_count": 19,
     "metadata": {},
     "output_type": "execute_result"
    }
   ],
   "source": [
    "X_train"
   ]
  },
  {
   "cell_type": "code",
   "execution_count": 20,
   "id": "593a7cf3",
   "metadata": {},
   "outputs": [],
   "source": [
    "from sklearn.decomposition import PCA\n",
    "pca = PCA(n_components=2, svd_solver= 'full')\n",
    "X_train_PCA = pca.fit_transform(X_train)\n",
    "X_train_PCA = pd.DataFrame(X_train_PCA)\n",
    "X_train_PCA.index = X_train.index\n",
    "\n",
    "X_test_PCA = pca.transform(X_test)\n",
    "X_test_PCA = pd.DataFrame(X_test_PCA)\n",
    "X_test_PCA.index = X_test.index"
   ]
  },
  {
   "cell_type": "code",
   "execution_count": 21,
   "id": "341bbc12",
   "metadata": {},
   "outputs": [
    {
     "data": {
      "text/html": [
       "<div>\n",
       "<style scoped>\n",
       "    .dataframe tbody tr th:only-of-type {\n",
       "        vertical-align: middle;\n",
       "    }\n",
       "\n",
       "    .dataframe tbody tr th {\n",
       "        vertical-align: top;\n",
       "    }\n",
       "\n",
       "    .dataframe thead th {\n",
       "        text-align: right;\n",
       "    }\n",
       "</style>\n",
       "<table border=\"1\" class=\"dataframe\">\n",
       "  <thead>\n",
       "    <tr style=\"text-align: right;\">\n",
       "      <th></th>\n",
       "      <th>0</th>\n",
       "      <th>1</th>\n",
       "    </tr>\n",
       "  </thead>\n",
       "  <tbody>\n",
       "    <tr>\n",
       "      <th>2004-04-09 00:01:57</th>\n",
       "      <td>-0.015918</td>\n",
       "      <td>0.008648</td>\n",
       "    </tr>\n",
       "    <tr>\n",
       "      <th>2004-04-09 00:11:57</th>\n",
       "      <td>-0.029157</td>\n",
       "      <td>0.020420</td>\n",
       "    </tr>\n",
       "    <tr>\n",
       "      <th>2004-04-09 00:21:57</th>\n",
       "      <td>-0.038370</td>\n",
       "      <td>0.019263</td>\n",
       "    </tr>\n",
       "    <tr>\n",
       "      <th>2004-04-09 00:31:57</th>\n",
       "      <td>-0.023798</td>\n",
       "      <td>0.013295</td>\n",
       "    </tr>\n",
       "    <tr>\n",
       "      <th>2004-04-09 00:41:57</th>\n",
       "      <td>-0.015102</td>\n",
       "      <td>0.004477</td>\n",
       "    </tr>\n",
       "    <tr>\n",
       "      <th>...</th>\n",
       "      <td>...</td>\n",
       "      <td>...</td>\n",
       "    </tr>\n",
       "    <tr>\n",
       "      <th>2004-04-18 02:02:55</th>\n",
       "      <td>2.238359</td>\n",
       "      <td>-0.191496</td>\n",
       "    </tr>\n",
       "    <tr>\n",
       "      <th>2004-04-18 02:12:55</th>\n",
       "      <td>2.142119</td>\n",
       "      <td>-0.113063</td>\n",
       "    </tr>\n",
       "    <tr>\n",
       "      <th>2004-04-18 02:22:55</th>\n",
       "      <td>2.652008</td>\n",
       "      <td>-0.289029</td>\n",
       "    </tr>\n",
       "    <tr>\n",
       "      <th>2004-04-18 02:32:55</th>\n",
       "      <td>3.352745</td>\n",
       "      <td>-0.768295</td>\n",
       "    </tr>\n",
       "    <tr>\n",
       "      <th>2004-04-18 02:42:55</th>\n",
       "      <td>-0.618161</td>\n",
       "      <td>-0.093194</td>\n",
       "    </tr>\n",
       "  </tbody>\n",
       "</table>\n",
       "<p>1271 rows × 2 columns</p>\n",
       "</div>"
      ],
      "text/plain": [
       "                            0         1\n",
       "2004-04-09 00:01:57 -0.015918  0.008648\n",
       "2004-04-09 00:11:57 -0.029157  0.020420\n",
       "2004-04-09 00:21:57 -0.038370  0.019263\n",
       "2004-04-09 00:31:57 -0.023798  0.013295\n",
       "2004-04-09 00:41:57 -0.015102  0.004477\n",
       "...                       ...       ...\n",
       "2004-04-18 02:02:55  2.238359 -0.191496\n",
       "2004-04-18 02:12:55  2.142119 -0.113063\n",
       "2004-04-18 02:22:55  2.652008 -0.289029\n",
       "2004-04-18 02:32:55  3.352745 -0.768295\n",
       "2004-04-18 02:42:55 -0.618161 -0.093194\n",
       "\n",
       "[1271 rows x 2 columns]"
      ]
     },
     "execution_count": 21,
     "metadata": {},
     "output_type": "execute_result"
    }
   ],
   "source": [
    "X_test_PCA"
   ]
  },
  {
   "cell_type": "code",
   "execution_count": 40,
   "id": "affae075",
   "metadata": {},
   "outputs": [
    {
     "data": {
      "text/plain": [
       "<Axes: >"
      ]
     },
     "execution_count": 40,
     "metadata": {},
     "output_type": "execute_result"
    },
    {
     "data": {
      "image/png": "[encoded data removed]",
      "text/plain": [
       "<Figure size 640x480 with 1 Axes>"
      ]
     },
     "metadata": {},
     "output_type": "display_data"
    }
   ],
   "source": [
    "X_test_PCA.plot()"
   ]
  },
  {
   "cell_type": "code",
   "execution_count": 22,
   "id": "576a9e90",
   "metadata": {},
   "outputs": [],
   "source": [
    "def cov_matrix(data, verbose=False):\n",
    "    covariance_matrix = np.cov(data, rowvar=False)\n",
    "    if is_pos_def(covariance_matrix):\n",
    "        inv_covariance_matrix = np.linalg.inv(covariance_matrix)\n",
    "        if is_pos_def(inv_covariance_matrix):\n",
    "            return covariance_matrix, inv_covariance_matrix\n",
    "        else:\n",
    "            print(\"Error: Inverse of Covariance Matrix is not positive definite!\")\n",
    "    else:\n",
    "        print(\"Error: Covariance Matrix is not positive definite!\")"
   ]
  },
  {
   "cell_type": "code",
   "execution_count": 23,
   "id": "f29fc782",
   "metadata": {},
   "outputs": [],
   "source": [
    "def MahalanobisDist(inv_cov_matrix, mean_distr, data, verbose=False):\n",
    "    inv_covariance_matrix = inv_cov_matrix\n",
    "    vars_mean = mean_distr\n",
    "    diff = data - vars_mean\n",
    "    md = []\n",
    "    for i in range(len(diff)):\n",
    "        md.append(np.sqrt(diff[i].dot(inv_covariance_matrix).dot(diff[i])))\n",
    "    return md"
   ]
  },
  {
   "cell_type": "code",
   "execution_count": 24,
   "id": "4808cfe1",
   "metadata": {},
   "outputs": [],
   "source": [
    "def MD_detectOutliers(dist, extreme=False, verbose=False):\n",
    "    k = 3. if extreme else 2.\n",
    "    threshold = np.mean(dist) * k\n",
    "    outliers = []\n",
    "    for i in range(len(dist)):\n",
    "        if dist[i] >= threshold:\n",
    "            outliers.append(i)  # index of the outlier\n",
    "    return np.array(outliers)"
   ]
  },
  {
   "cell_type": "code",
   "execution_count": 25,
   "id": "40766109",
   "metadata": {},
   "outputs": [],
   "source": [
    "def MD_threshold(dist, extreme=False, verbose=False):\n",
    "    k = 3. if extreme else 2.\n",
    "    threshold = np.mean(dist) * k\n",
    "    return threshold"
   ]
  },
  {
   "cell_type": "code",
   "execution_count": 26,
   "id": "23d4dcad",
   "metadata": {},
   "outputs": [],
   "source": [
    "def is_pos_def(A):\n",
    "    if np.allclose(A, A.T):\n",
    "        try:\n",
    "            np.linalg.cholesky(A)\n",
    "            return True\n",
    "        except np.linalg.LinAlgError:\n",
    "            return False\n",
    "    else:\n",
    "        return False"
   ]
  },
  {
   "cell_type": "code",
   "execution_count": 27,
   "id": "6f7aad39",
   "metadata": {},
   "outputs": [],
   "source": [
    "data_train = np.array(X_train_PCA.values)\n",
    "data_test = np.array(X_test_PCA.values)"
   ]
  },
  {
   "cell_type": "code",
   "execution_count": 28,
   "id": "0855c75f",
   "metadata": {},
   "outputs": [],
   "source": [
    "cov_matrix, inv_cov_matrix  = cov_matrix(data_train)"
   ]
  },
  {
   "cell_type": "code",
   "execution_count": 29,
   "id": "2760e65f",
   "metadata": {},
   "outputs": [],
   "source": [
    "mean_distr = data_train.mean(axis=0)"
   ]
  },
  {
   "cell_type": "code",
   "execution_count": 30,
   "id": "9f55f091",
   "metadata": {},
   "outputs": [],
   "source": [
    "dist_test = MahalanobisDist(inv_cov_matrix, mean_distr, data_test, verbose=False)\n",
    "dist_train = MahalanobisDist(inv_cov_matrix, mean_distr, data_train, verbose=False)\n",
    "threshold = MD_threshold(dist_train, extreme = True)"
   ]
  },
  {
   "cell_type": "code",
   "execution_count": 31,
   "id": "9848dca8",
   "metadata": {},
   "outputs": [
    {
     "data": {
      "text/plain": [
       "(0.0, 15.0)"
      ]
     },
     "execution_count": 31,
     "metadata": {},
     "output_type": "execute_result"
    },
    {
     "data": {
      "image/png": "[encoded data removed]",
      "text/plain": [
       "<Figure size 640x480 with 1 Axes>"
      ]
     },
     "metadata": {},
     "output_type": "display_data"
    }
   ],
   "source": [
    "plt.figure()\n",
    "sns.distplot(np.square(dist_train),\n",
    "             bins = 10, \n",
    "             kde= False);\n",
    "plt.xlim([0.0,15])"
   ]
  },
  {
   "cell_type": "code",
   "execution_count": 32,
   "id": "88c7c020",
   "metadata": {},
   "outputs": [
    {
     "data": {
      "text/plain": [
       "Text(0.5, 0, 'Mahalanobis dist')"
      ]
     },
     "execution_count": 32,
     "metadata": {},
     "output_type": "execute_result"
    },
    {
     "data": {
      "image/png": "[encoded data removed]",
      "text/plain": [
       "<Figure size 640x480 with 1 Axes>"
      ]
     },
     "metadata": {},
     "output_type": "display_data"
    }
   ],
   "source": [
    "plt.figure()\n",
    "sns.distplot(dist_train,\n",
    "             bins = 10, \n",
    "             kde= True, \n",
    "            color = 'green');\n",
    "plt.xlim([0.0,5])\n",
    "plt.xlabel('Mahalanobis dist')"
   ]
  },
  {
   "cell_type": "code",
   "execution_count": 33,
   "id": "728902bd",
   "metadata": {},
   "outputs": [
    {
     "data": {
      "text/html": [
       "<div>\n",
       "<style scoped>\n",
       "    .dataframe tbody tr th:only-of-type {\n",
       "        vertical-align: middle;\n",
       "    }\n",
       "\n",
       "    .dataframe tbody tr th {\n",
       "        vertical-align: top;\n",
       "    }\n",
       "\n",
       "    .dataframe thead th {\n",
       "        text-align: right;\n",
       "    }\n",
       "</style>\n",
       "<table border=\"1\" class=\"dataframe\">\n",
       "  <thead>\n",
       "    <tr style=\"text-align: right;\">\n",
       "      <th></th>\n",
       "      <th>Mob dist</th>\n",
       "      <th>Thresh</th>\n",
       "      <th>Anomaly</th>\n",
       "    </tr>\n",
       "  </thead>\n",
       "  <tbody>\n",
       "    <tr>\n",
       "      <th>2004-04-09 00:01:57</th>\n",
       "      <td>0.312067</td>\n",
       "      <td>2.604587</td>\n",
       "      <td>False</td>\n",
       "    </tr>\n",
       "    <tr>\n",
       "      <th>2004-04-09 00:11:57</th>\n",
       "      <td>0.696762</td>\n",
       "      <td>2.604587</td>\n",
       "      <td>False</td>\n",
       "    </tr>\n",
       "    <tr>\n",
       "      <th>2004-04-09 00:21:57</th>\n",
       "      <td>0.710757</td>\n",
       "      <td>2.604587</td>\n",
       "      <td>False</td>\n",
       "    </tr>\n",
       "    <tr>\n",
       "      <th>2004-04-09 00:31:57</th>\n",
       "      <td>0.476288</td>\n",
       "      <td>2.604587</td>\n",
       "      <td>False</td>\n",
       "    </tr>\n",
       "    <tr>\n",
       "      <th>2004-04-09 00:41:57</th>\n",
       "      <td>0.206090</td>\n",
       "      <td>2.604587</td>\n",
       "      <td>False</td>\n",
       "    </tr>\n",
       "  </tbody>\n",
       "</table>\n",
       "</div>"
      ],
      "text/plain": [
       "                     Mob dist    Thresh  Anomaly\n",
       "2004-04-09 00:01:57  0.312067  2.604587    False\n",
       "2004-04-09 00:11:57  0.696762  2.604587    False\n",
       "2004-04-09 00:21:57  0.710757  2.604587    False\n",
       "2004-04-09 00:31:57  0.476288  2.604587    False\n",
       "2004-04-09 00:41:57  0.206090  2.604587    False"
      ]
     },
     "execution_count": 33,
     "metadata": {},
     "output_type": "execute_result"
    }
   ],
   "source": [
    "anomaly_train = pd.DataFrame()\n",
    "anomaly_train['Mob dist']= dist_train\n",
    "anomaly_train['Thresh'] = threshold\n",
    "# If Mob dist above threshold: Flag as anomaly\n",
    "anomaly_train['Anomaly'] = anomaly_train['Mob dist'] > anomaly_train['Thresh']\n",
    "anomaly_train.index = X_train_PCA.index\n",
    "anomaly = pd.DataFrame()\n",
    "anomaly['Mob dist']= dist_test\n",
    "anomaly['Thresh'] = threshold\n",
    "# If Mob dist above threshold: Flag as anomaly\n",
    "anomaly['Anomaly'] = anomaly['Mob dist'] > anomaly['Thresh']\n",
    "anomaly.index = X_test_PCA.index\n",
    "anomaly.head()"
   ]
  },
  {
   "cell_type": "code",
   "execution_count": 34,
   "id": "c0dcca88",
   "metadata": {},
   "outputs": [
    {
     "data": {
      "text/plain": [
       "False    1109\n",
       "True      162\n",
       "Name: Anomaly, dtype: int64"
      ]
     },
     "execution_count": 34,
     "metadata": {},
     "output_type": "execute_result"
    }
   ],
   "source": [
    "anomaly['Anomaly'].value_counts()"
   ]
  },
  {
   "cell_type": "code",
   "execution_count": 35,
   "id": "7fffe912",
   "metadata": {},
   "outputs": [],
   "source": [
    "anomaly_alldata = pd.concat([anomaly_train, anomaly])\n",
    "anomaly_alldata.to_csv('Anomaly_distance.csv')"
   ]
  },
  {
   "cell_type": "code",
   "execution_count": 103,
   "id": "cc9001f5",
   "metadata": {},
   "outputs": [
    {
     "data": {
      "text/plain": [
       "<Figure size 2000x600 with 0 Axes>"
      ]
     },
     "metadata": {},
     "output_type": "display_data"
    },
    {
     "data": {
      "image/png": "[encoded data removed]",
      "text/plain": [
       "<Figure size 1000x600 with 1 Axes>"
      ]
     },
     "metadata": {},
     "output_type": "display_data"
    }
   ],
   "source": [
    "import matplotlib.pyplot as plt\n",
    "plt.figure(figsize=(20,6))\n",
    "anomaly_alldata.plot(logy=True, figsize = (10,6), ylim = [1e-1,1e3], color = ['green','red'])\n",
    "plt.savefig('anamoly.jpg')"
   ]
  },
  {
   "cell_type": "code",
   "execution_count": 38,
   "id": "6b29f94f",
   "metadata": {},
   "outputs": [
    {
     "data": {
      "text/html": [
       "<div>\n",
       "<style scoped>\n",
       "    .dataframe tbody tr th:only-of-type {\n",
       "        vertical-align: middle;\n",
       "    }\n",
       "\n",
       "    .dataframe tbody tr th {\n",
       "        vertical-align: top;\n",
       "    }\n",
       "\n",
       "    .dataframe thead th {\n",
       "        text-align: right;\n",
       "    }\n",
       "</style>\n",
       "<table border=\"1\" class=\"dataframe\">\n",
       "  <thead>\n",
       "    <tr style=\"text-align: right;\">\n",
       "      <th></th>\n",
       "      <th>Mob dist</th>\n",
       "      <th>Thresh</th>\n",
       "      <th>Anomaly</th>\n",
       "    </tr>\n",
       "  </thead>\n",
       "  <tbody>\n",
       "    <tr>\n",
       "      <th>2004-02-12 10:32:39</th>\n",
       "      <td>3.332451</td>\n",
       "      <td>2.604587</td>\n",
       "      <td>True</td>\n",
       "    </tr>\n",
       "    <tr>\n",
       "      <th>2004-02-12 10:42:39</th>\n",
       "      <td>3.293231</td>\n",
       "      <td>2.604587</td>\n",
       "      <td>True</td>\n",
       "    </tr>\n",
       "    <tr>\n",
       "      <th>2004-02-12 10:52:39</th>\n",
       "      <td>3.206920</td>\n",
       "      <td>2.604587</td>\n",
       "      <td>True</td>\n",
       "    </tr>\n",
       "    <tr>\n",
       "      <th>2004-02-12 11:02:39</th>\n",
       "      <td>3.153325</td>\n",
       "      <td>2.604587</td>\n",
       "      <td>True</td>\n",
       "    </tr>\n",
       "    <tr>\n",
       "      <th>2004-02-12 11:12:39</th>\n",
       "      <td>2.972314</td>\n",
       "      <td>2.604587</td>\n",
       "      <td>True</td>\n",
       "    </tr>\n",
       "    <tr>\n",
       "      <th>...</th>\n",
       "      <td>...</td>\n",
       "      <td>...</td>\n",
       "      <td>...</td>\n",
       "    </tr>\n",
       "    <tr>\n",
       "      <th>2004-04-08 23:11:57</th>\n",
       "      <td>0.524785</td>\n",
       "      <td>2.604587</td>\n",
       "      <td>False</td>\n",
       "    </tr>\n",
       "    <tr>\n",
       "      <th>2004-04-08 23:21:57</th>\n",
       "      <td>0.495728</td>\n",
       "      <td>2.604587</td>\n",
       "      <td>False</td>\n",
       "    </tr>\n",
       "    <tr>\n",
       "      <th>2004-04-08 23:31:57</th>\n",
       "      <td>0.281771</td>\n",
       "      <td>2.604587</td>\n",
       "      <td>False</td>\n",
       "    </tr>\n",
       "    <tr>\n",
       "      <th>2004-04-08 23:41:57</th>\n",
       "      <td>0.381432</td>\n",
       "      <td>2.604587</td>\n",
       "      <td>False</td>\n",
       "    </tr>\n",
       "    <tr>\n",
       "      <th>2004-04-08 23:51:57</th>\n",
       "      <td>0.701680</td>\n",
       "      <td>2.604587</td>\n",
       "      <td>False</td>\n",
       "    </tr>\n",
       "  </tbody>\n",
       "</table>\n",
       "<p>6037 rows × 3 columns</p>\n",
       "</div>"
      ],
      "text/plain": [
       "                     Mob dist    Thresh  Anomaly\n",
       "2004-02-12 10:32:39  3.332451  2.604587     True\n",
       "2004-02-12 10:42:39  3.293231  2.604587     True\n",
       "2004-02-12 10:52:39  3.206920  2.604587     True\n",
       "2004-02-12 11:02:39  3.153325  2.604587     True\n",
       "2004-02-12 11:12:39  2.972314  2.604587     True\n",
       "...                       ...       ...      ...\n",
       "2004-04-08 23:11:57  0.524785  2.604587    False\n",
       "2004-04-08 23:21:57  0.495728  2.604587    False\n",
       "2004-04-08 23:31:57  0.281771  2.604587    False\n",
       "2004-04-08 23:41:57  0.381432  2.604587    False\n",
       "2004-04-08 23:51:57  0.701680  2.604587    False\n",
       "\n",
       "[6037 rows x 3 columns]"
      ]
     },
     "execution_count": 38,
     "metadata": {},
     "output_type": "execute_result"
    }
   ],
   "source": [
    "anomaly_train"
   ]
  },
  {
   "cell_type": "code",
   "execution_count": 39,
   "id": "4c3c9ddb",
   "metadata": {},
   "outputs": [],
   "source": [
    "from sklearn.preprocessing import LabelEncoder"
   ]
  },
  {
   "cell_type": "code",
   "execution_count": 46,
   "id": "de1971fc",
   "metadata": {},
   "outputs": [
    {
     "data": {
      "text/html": [
       "<div>\n",
       "<style scoped>\n",
       "    .dataframe tbody tr th:only-of-type {\n",
       "        vertical-align: middle;\n",
       "    }\n",
       "\n",
       "    .dataframe tbody tr th {\n",
       "        vertical-align: top;\n",
       "    }\n",
       "\n",
       "    .dataframe thead th {\n",
       "        text-align: right;\n",
       "    }\n",
       "</style>\n",
       "<table border=\"1\" class=\"dataframe\">\n",
       "  <thead>\n",
       "    <tr style=\"text-align: right;\">\n",
       "      <th></th>\n",
       "      <th>Bearing 1</th>\n",
       "      <th>Bearing 2</th>\n",
       "      <th>Bearing 3</th>\n",
       "      <th>Bearing 4</th>\n",
       "    </tr>\n",
       "  </thead>\n",
       "  <tbody>\n",
       "    <tr>\n",
       "      <th>2004-02-12 10:32:39</th>\n",
       "      <td>0.126423</td>\n",
       "      <td>0.443462</td>\n",
       "      <td>0.548041</td>\n",
       "      <td>0.352522</td>\n",
       "    </tr>\n",
       "    <tr>\n",
       "      <th>2004-02-12 10:42:39</th>\n",
       "      <td>0.127888</td>\n",
       "      <td>0.457029</td>\n",
       "      <td>0.555967</td>\n",
       "      <td>0.365087</td>\n",
       "    </tr>\n",
       "    <tr>\n",
       "      <th>2004-02-12 10:52:39</th>\n",
       "      <td>0.130633</td>\n",
       "      <td>0.458408</td>\n",
       "      <td>0.552584</td>\n",
       "      <td>0.364252</td>\n",
       "    </tr>\n",
       "    <tr>\n",
       "      <th>2004-02-12 11:02:39</th>\n",
       "      <td>0.133329</td>\n",
       "      <td>0.456021</td>\n",
       "      <td>0.556113</td>\n",
       "      <td>0.369692</td>\n",
       "    </tr>\n",
       "    <tr>\n",
       "      <th>2004-02-12 11:12:39</th>\n",
       "      <td>0.133120</td>\n",
       "      <td>0.467033</td>\n",
       "      <td>0.545350</td>\n",
       "      <td>0.370007</td>\n",
       "    </tr>\n",
       "    <tr>\n",
       "      <th>...</th>\n",
       "      <td>...</td>\n",
       "      <td>...</td>\n",
       "      <td>...</td>\n",
       "      <td>...</td>\n",
       "    </tr>\n",
       "    <tr>\n",
       "      <th>2004-04-08 23:11:57</th>\n",
       "      <td>0.129935</td>\n",
       "      <td>0.381410</td>\n",
       "      <td>0.364507</td>\n",
       "      <td>0.368443</td>\n",
       "    </tr>\n",
       "    <tr>\n",
       "      <th>2004-04-08 23:21:57</th>\n",
       "      <td>0.125225</td>\n",
       "      <td>0.374089</td>\n",
       "      <td>0.356569</td>\n",
       "      <td>0.358697</td>\n",
       "    </tr>\n",
       "    <tr>\n",
       "      <th>2004-04-08 23:31:57</th>\n",
       "      <td>0.127372</td>\n",
       "      <td>0.376324</td>\n",
       "      <td>0.370050</td>\n",
       "      <td>0.359149</td>\n",
       "    </tr>\n",
       "    <tr>\n",
       "      <th>2004-04-08 23:41:57</th>\n",
       "      <td>0.127659</td>\n",
       "      <td>0.378453</td>\n",
       "      <td>0.366789</td>\n",
       "      <td>0.363315</td>\n",
       "    </tr>\n",
       "    <tr>\n",
       "      <th>2004-04-08 23:51:57</th>\n",
       "      <td>0.129250</td>\n",
       "      <td>0.382772</td>\n",
       "      <td>0.355794</td>\n",
       "      <td>0.369971</td>\n",
       "    </tr>\n",
       "  </tbody>\n",
       "</table>\n",
       "<p>6037 rows × 4 columns</p>\n",
       "</div>"
      ],
      "text/plain": [
       "                     Bearing 1  Bearing 2  Bearing 3  Bearing 4\n",
       "2004-02-12 10:32:39   0.126423   0.443462   0.548041   0.352522\n",
       "2004-02-12 10:42:39   0.127888   0.457029   0.555967   0.365087\n",
       "2004-02-12 10:52:39   0.130633   0.458408   0.552584   0.364252\n",
       "2004-02-12 11:02:39   0.133329   0.456021   0.556113   0.369692\n",
       "2004-02-12 11:12:39   0.133120   0.467033   0.545350   0.370007\n",
       "...                        ...        ...        ...        ...\n",
       "2004-04-08 23:11:57   0.129935   0.381410   0.364507   0.368443\n",
       "2004-04-08 23:21:57   0.125225   0.374089   0.356569   0.358697\n",
       "2004-04-08 23:31:57   0.127372   0.376324   0.370050   0.359149\n",
       "2004-04-08 23:41:57   0.127659   0.378453   0.366789   0.363315\n",
       "2004-04-08 23:51:57   0.129250   0.382772   0.355794   0.369971\n",
       "\n",
       "[6037 rows x 4 columns]"
      ]
     },
     "execution_count": 46,
     "metadata": {},
     "output_type": "execute_result"
    }
   ],
   "source": [
    "X_train"
   ]
  },
  {
   "cell_type": "code",
   "execution_count": 45,
   "id": "fa16bf0d",
   "metadata": {},
   "outputs": [
    {
     "data": {
      "text/plain": [
       "(6037, 4)"
      ]
     },
     "execution_count": 45,
     "metadata": {},
     "output_type": "execute_result"
    }
   ],
   "source": [
    "X_train.shape"
   ]
  },
  {
   "cell_type": "code",
   "execution_count": 47,
   "id": "91bde836",
   "metadata": {},
   "outputs": [],
   "source": [
    "encoder = LabelEncoder()\n",
    "y_train = encoder.fit_transform(anomaly_train['Anomaly'])\n",
    "y_test = encoder.transform(anomaly['Anomaly'])"
   ]
  },
  {
   "cell_type": "code",
   "execution_count": 48,
   "id": "632ec2bc",
   "metadata": {},
   "outputs": [
    {
     "data": {
      "text/plain": [
       "array([1, 1, 1, ..., 0, 0, 0], dtype=int64)"
      ]
     },
     "execution_count": 48,
     "metadata": {},
     "output_type": "execute_result"
    }
   ],
   "source": [
    "y_train"
   ]
  },
  {
   "cell_type": "markdown",
   "id": "78ee2992",
   "metadata": {},
   "source": [
    "# ANN Predictive model"
   ]
  },
  {
   "cell_type": "code",
   "execution_count": 53,
   "id": "01e40272",
   "metadata": {},
   "outputs": [],
   "source": [
    "# Shallow Neural Naetwork\n",
    "model = Sequential()\n",
    "\n",
    "model.add(Dense(64,activation='relu',input_dim=4))\n",
    "model.add(Dropout(0.2))\n",
    "model.add(BatchNormalization())\n",
    "\n",
    "model.add(Dense(16, activation=\"relu\"))\n",
    "model.add(Dropout(0.5))\n",
    "model.add(BatchNormalization())\n",
    "\n",
    "model.add(Dense(1,activation='sigmoid'))\n",
    "model.compile(loss='binary_crossentropy',optimizer='Adam',metrics=['accuracy'])"
   ]
  },
  {
   "cell_type": "code",
   "execution_count": 54,
   "id": "0cee36ff",
   "metadata": {},
   "outputs": [
    {
     "name": "stdout",
     "output_type": "stream",
     "text": [
      "Model: \"sequential_1\"\n",
      "_________________________________________________________________\n",
      " Layer (type)                Output Shape              Param #   \n",
      "=================================================================\n",
      " dense_1 (Dense)             (None, 64)                320       \n",
      "                                                                 \n",
      " dropout_1 (Dropout)         (None, 64)                0         \n",
      "                                                                 \n",
      " batch_normalization (BatchN  (None, 64)               256       \n",
      " ormalization)                                                   \n",
      "                                                                 \n",
      " dense_2 (Dense)             (None, 16)                1040      \n",
      "                                                                 \n",
      " dropout_2 (Dropout)         (None, 16)                0         \n",
      "                                                                 \n",
      " batch_normalization_1 (Batc  (None, 16)               64        \n",
      " hNormalization)                                                 \n",
      "                                                                 \n",
      " dense_3 (Dense)             (None, 1)                 17        \n",
      "                                                                 \n",
      "=================================================================\n",
      "Total params: 1,697\n",
      "Trainable params: 1,537\n",
      "Non-trainable params: 160\n",
      "_________________________________________________________________\n"
     ]
    }
   ],
   "source": [
    "model.summary()"
   ]
  },
  {
   "cell_type": "code",
   "execution_count": 55,
   "id": "ccac232a",
   "metadata": {},
   "outputs": [],
   "source": [
    "callback = EarlyStopping(\n",
    "    monitor=\"val_loss\",\n",
    "    min_delta=0.00001,\n",
    "    patience=30,\n",
    "    verbose=1,\n",
    "    mode=\"auto\",\n",
    "    baseline=None,\n",
    "    restore_best_weights=False\n",
    ")"
   ]
  },
  {
   "cell_type": "code",
   "execution_count": 56,
   "id": "180618bd",
   "metadata": {},
   "outputs": [
    {
     "name": "stdout",
     "output_type": "stream",
     "text": [
      "Epoch 1/1000\n",
      "189/189 [==============================] - 9s 13ms/step - loss: 0.6445 - accuracy: 0.6755 - val_loss: 0.4389 - val_accuracy: 0.8757\n",
      "Epoch 2/1000\n",
      "189/189 [==============================] - 2s 10ms/step - loss: 0.3118 - accuracy: 0.9003 - val_loss: 0.2282 - val_accuracy: 0.9284\n",
      "Epoch 3/1000\n",
      "189/189 [==============================] - 2s 10ms/step - loss: 0.1846 - accuracy: 0.9475 - val_loss: 0.0848 - val_accuracy: 0.9756\n",
      "Epoch 4/1000\n",
      "189/189 [==============================] - 2s 10ms/step - loss: 0.1434 - accuracy: 0.9520 - val_loss: 0.0430 - val_accuracy: 0.9882\n",
      "Epoch 5/1000\n",
      "189/189 [==============================] - 2s 10ms/step - loss: 0.1284 - accuracy: 0.9530 - val_loss: 0.0292 - val_accuracy: 0.9890\n",
      "Epoch 6/1000\n",
      "189/189 [==============================] - 2s 10ms/step - loss: 0.1096 - accuracy: 0.9588 - val_loss: 0.0147 - val_accuracy: 0.9961\n",
      "Epoch 7/1000\n",
      "189/189 [==============================] - 2s 10ms/step - loss: 0.1053 - accuracy: 0.9584 - val_loss: 0.0157 - val_accuracy: 0.9976\n",
      "Epoch 8/1000\n",
      "189/189 [==============================] - 2s 10ms/step - loss: 0.0989 - accuracy: 0.9609 - val_loss: 0.0092 - val_accuracy: 0.9992\n",
      "Epoch 9/1000\n",
      "189/189 [==============================] - 2s 10ms/step - loss: 0.1000 - accuracy: 0.9619 - val_loss: 0.0275 - val_accuracy: 0.9858\n",
      "Epoch 10/1000\n",
      "189/189 [==============================] - 2s 10ms/step - loss: 0.0946 - accuracy: 0.9604 - val_loss: 0.0096 - val_accuracy: 0.9992\n",
      "Epoch 11/1000\n",
      "189/189 [==============================] - 2s 10ms/step - loss: 0.0866 - accuracy: 0.9629 - val_loss: 0.0087 - val_accuracy: 0.9984\n",
      "Epoch 12/1000\n",
      "189/189 [==============================] - 2s 10ms/step - loss: 0.0773 - accuracy: 0.9675 - val_loss: 0.0083 - val_accuracy: 0.9992\n",
      "Epoch 13/1000\n",
      "189/189 [==============================] - 2s 10ms/step - loss: 0.0834 - accuracy: 0.9670 - val_loss: 0.0070 - val_accuracy: 0.9992\n",
      "Epoch 14/1000\n",
      "189/189 [==============================] - 2s 10ms/step - loss: 0.0742 - accuracy: 0.9680 - val_loss: 0.0056 - val_accuracy: 0.9992\n",
      "Epoch 15/1000\n",
      "189/189 [==============================] - 2s 10ms/step - loss: 0.0782 - accuracy: 0.9689 - val_loss: 0.0063 - val_accuracy: 0.9992\n",
      "Epoch 16/1000\n",
      "189/189 [==============================] - 2s 10ms/step - loss: 0.0756 - accuracy: 0.9699 - val_loss: 0.0064 - val_accuracy: 0.9992\n",
      "Epoch 17/1000\n",
      "189/189 [==============================] - 2s 10ms/step - loss: 0.0656 - accuracy: 0.9732 - val_loss: 0.0069 - val_accuracy: 0.9984\n",
      "Epoch 18/1000\n",
      "189/189 [==============================] - 2s 10ms/step - loss: 0.0788 - accuracy: 0.9695 - val_loss: 0.0040 - val_accuracy: 0.9992\n",
      "Epoch 19/1000\n",
      "189/189 [==============================] - 2s 10ms/step - loss: 0.0753 - accuracy: 0.9717 - val_loss: 0.0147 - val_accuracy: 0.9992\n",
      "Epoch 20/1000\n",
      "189/189 [==============================] - 2s 10ms/step - loss: 0.0755 - accuracy: 0.9684 - val_loss: 0.0038 - val_accuracy: 0.9992\n",
      "Epoch 21/1000\n",
      "189/189 [==============================] - 2s 10ms/step - loss: 0.0725 - accuracy: 0.9713 - val_loss: 0.0028 - val_accuracy: 0.9992\n",
      "Epoch 22/1000\n",
      "189/189 [==============================] - 2s 10ms/step - loss: 0.0736 - accuracy: 0.9705 - val_loss: 0.0038 - val_accuracy: 0.9992\n",
      "Epoch 23/1000\n",
      "189/189 [==============================] - 2s 10ms/step - loss: 0.0647 - accuracy: 0.9771 - val_loss: 0.0025 - val_accuracy: 0.9992\n",
      "Epoch 24/1000\n",
      "189/189 [==============================] - 2s 10ms/step - loss: 0.0845 - accuracy: 0.9708 - val_loss: 0.0088 - val_accuracy: 0.9992\n",
      "Epoch 25/1000\n",
      "189/189 [==============================] - 2s 10ms/step - loss: 0.0740 - accuracy: 0.9727 - val_loss: 0.0022 - val_accuracy: 0.9992\n",
      "Epoch 26/1000\n",
      "189/189 [==============================] - 2s 10ms/step - loss: 0.0653 - accuracy: 0.9738 - val_loss: 0.0032 - val_accuracy: 0.9992\n",
      "Epoch 27/1000\n",
      "189/189 [==============================] - 2s 10ms/step - loss: 0.0651 - accuracy: 0.9740 - val_loss: 0.0025 - val_accuracy: 1.0000\n",
      "Epoch 28/1000\n",
      "189/189 [==============================] - 2s 10ms/step - loss: 0.0592 - accuracy: 0.9778 - val_loss: 0.0016 - val_accuracy: 0.9992\n",
      "Epoch 29/1000\n",
      "189/189 [==============================] - 2s 10ms/step - loss: 0.0594 - accuracy: 0.9770 - val_loss: 0.0024 - val_accuracy: 0.9984\n",
      "Epoch 30/1000\n",
      "189/189 [==============================] - 2s 10ms/step - loss: 0.0583 - accuracy: 0.9771 - val_loss: 0.0020 - val_accuracy: 0.9992\n",
      "Epoch 31/1000\n",
      "189/189 [==============================] - 2s 9ms/step - loss: 0.0596 - accuracy: 0.9765 - val_loss: 0.0030 - val_accuracy: 0.9992\n",
      "Epoch 32/1000\n",
      "189/189 [==============================] - 2s 9ms/step - loss: 0.0584 - accuracy: 0.9780 - val_loss: 0.0023 - val_accuracy: 0.9992\n",
      "Epoch 33/1000\n",
      "189/189 [==============================] - 2s 11ms/step - loss: 0.0585 - accuracy: 0.9775 - val_loss: 0.0025 - val_accuracy: 0.9992\n",
      "Epoch 34/1000\n",
      "189/189 [==============================] - 2s 10ms/step - loss: 0.0567 - accuracy: 0.9793 - val_loss: 0.0023 - val_accuracy: 0.9992\n",
      "Epoch 35/1000\n",
      "189/189 [==============================] - 2s 10ms/step - loss: 0.0499 - accuracy: 0.9821 - val_loss: 0.0019 - val_accuracy: 1.0000\n",
      "Epoch 36/1000\n",
      "189/189 [==============================] - 2s 9ms/step - loss: 0.0532 - accuracy: 0.9800 - val_loss: 0.0018 - val_accuracy: 1.0000\n",
      "Epoch 37/1000\n",
      "189/189 [==============================] - 2s 9ms/step - loss: 0.0566 - accuracy: 0.9813 - val_loss: 0.0020 - val_accuracy: 0.9992\n",
      "Epoch 38/1000\n",
      "189/189 [==============================] - 2s 9ms/step - loss: 0.0648 - accuracy: 0.9768 - val_loss: 0.0027 - val_accuracy: 0.9992\n",
      "Epoch 39/1000\n",
      "189/189 [==============================] - 2s 9ms/step - loss: 0.0680 - accuracy: 0.9765 - val_loss: 0.0024 - val_accuracy: 0.9992\n",
      "Epoch 40/1000\n",
      "189/189 [==============================] - 2s 10ms/step - loss: 0.0549 - accuracy: 0.9783 - val_loss: 0.0030 - val_accuracy: 0.9984\n",
      "Epoch 41/1000\n",
      "189/189 [==============================] - 2s 9ms/step - loss: 0.0583 - accuracy: 0.9796 - val_loss: 0.0049 - val_accuracy: 0.9984\n",
      "Epoch 42/1000\n",
      "189/189 [==============================] - 2s 10ms/step - loss: 0.0607 - accuracy: 0.9768 - val_loss: 0.0046 - val_accuracy: 0.9992\n",
      "Epoch 43/1000\n",
      "189/189 [==============================] - 2s 11ms/step - loss: 0.0644 - accuracy: 0.9778 - val_loss: 0.0024 - val_accuracy: 0.9984\n",
      "Epoch 44/1000\n",
      "189/189 [==============================] - 2s 10ms/step - loss: 0.0530 - accuracy: 0.9818 - val_loss: 0.0015 - val_accuracy: 0.9984\n",
      "Epoch 45/1000\n",
      "189/189 [==============================] - 2s 11ms/step - loss: 0.0582 - accuracy: 0.9798 - val_loss: 0.0013 - val_accuracy: 0.9992\n",
      "Epoch 46/1000\n",
      "189/189 [==============================] - 2s 10ms/step - loss: 0.0808 - accuracy: 0.9705 - val_loss: 0.0087 - val_accuracy: 1.0000\n",
      "Epoch 47/1000\n",
      "189/189 [==============================] - 2s 10ms/step - loss: 0.0543 - accuracy: 0.9783 - val_loss: 0.0013 - val_accuracy: 0.9992\n",
      "Epoch 48/1000\n",
      "189/189 [==============================] - 2s 10ms/step - loss: 0.0678 - accuracy: 0.9770 - val_loss: 0.0016 - val_accuracy: 1.0000\n",
      "Epoch 49/1000\n",
      "189/189 [==============================] - 2s 10ms/step - loss: 0.0646 - accuracy: 0.9755 - val_loss: 0.0017 - val_accuracy: 0.9992\n",
      "Epoch 50/1000\n",
      "189/189 [==============================] - 2s 10ms/step - loss: 0.0635 - accuracy: 0.9755 - val_loss: 0.0013 - val_accuracy: 0.9984\n",
      "Epoch 51/1000\n",
      "189/189 [==============================] - 2s 10ms/step - loss: 0.0536 - accuracy: 0.9805 - val_loss: 0.0014 - val_accuracy: 0.9992\n",
      "Epoch 52/1000\n",
      "189/189 [==============================] - 2s 10ms/step - loss: 0.0651 - accuracy: 0.9786 - val_loss: 0.0015 - val_accuracy: 0.9992\n",
      "Epoch 53/1000\n",
      "189/189 [==============================] - 2s 10ms/step - loss: 0.0611 - accuracy: 0.9783 - val_loss: 0.0014 - val_accuracy: 0.9992\n",
      "Epoch 54/1000\n",
      "189/189 [==============================] - 2s 10ms/step - loss: 0.0545 - accuracy: 0.9805 - val_loss: 0.0018 - val_accuracy: 1.0000\n",
      "Epoch 55/1000\n",
      "189/189 [==============================] - 2s 9ms/step - loss: 0.0746 - accuracy: 0.9722 - val_loss: 0.0026 - val_accuracy: 0.9992\n",
      "Epoch 56/1000\n",
      "189/189 [==============================] - 2s 10ms/step - loss: 0.0608 - accuracy: 0.9760 - val_loss: 0.0029 - val_accuracy: 0.9992\n",
      "Epoch 57/1000\n"
     ]
    },
    {
     "name": "stdout",
     "output_type": "stream",
     "text": [
      "189/189 [==============================] - 2s 10ms/step - loss: 0.0602 - accuracy: 0.9775 - val_loss: 0.0022 - val_accuracy: 0.9992\n",
      "Epoch 58/1000\n",
      "189/189 [==============================] - 2s 9ms/step - loss: 0.0517 - accuracy: 0.9791 - val_loss: 0.0018 - val_accuracy: 0.9992\n",
      "Epoch 59/1000\n",
      "189/189 [==============================] - 2s 9ms/step - loss: 0.0596 - accuracy: 0.9773 - val_loss: 0.0012 - val_accuracy: 1.0000\n",
      "Epoch 60/1000\n",
      "189/189 [==============================] - 2s 10ms/step - loss: 0.0598 - accuracy: 0.9766 - val_loss: 0.0016 - val_accuracy: 1.0000\n",
      "Epoch 61/1000\n",
      "189/189 [==============================] - 2s 9ms/step - loss: 0.0541 - accuracy: 0.9811 - val_loss: 0.0060 - val_accuracy: 1.0000\n",
      "Epoch 62/1000\n",
      "189/189 [==============================] - 2s 10ms/step - loss: 0.0553 - accuracy: 0.9800 - val_loss: 0.0012 - val_accuracy: 0.9992\n",
      "Epoch 63/1000\n",
      "189/189 [==============================] - 2s 9ms/step - loss: 0.0580 - accuracy: 0.9798 - val_loss: 0.0020 - val_accuracy: 0.9992\n",
      "Epoch 64/1000\n",
      "189/189 [==============================] - 2s 9ms/step - loss: 0.0500 - accuracy: 0.9823 - val_loss: 0.0026 - val_accuracy: 0.9992\n",
      "Epoch 65/1000\n",
      "189/189 [==============================] - 2s 9ms/step - loss: 0.0520 - accuracy: 0.9819 - val_loss: 9.5495e-04 - val_accuracy: 1.0000\n",
      "Epoch 66/1000\n",
      "189/189 [==============================] - 2s 9ms/step - loss: 0.0741 - accuracy: 0.9732 - val_loss: 0.0018 - val_accuracy: 0.9992\n",
      "Epoch 67/1000\n",
      "189/189 [==============================] - 2s 10ms/step - loss: 0.0650 - accuracy: 0.9766 - val_loss: 0.0015 - val_accuracy: 1.0000\n",
      "Epoch 68/1000\n",
      "189/189 [==============================] - 2s 10ms/step - loss: 0.0710 - accuracy: 0.9745 - val_loss: 0.0019 - val_accuracy: 1.0000\n",
      "Epoch 69/1000\n",
      "189/189 [==============================] - 2s 9ms/step - loss: 0.0512 - accuracy: 0.9814 - val_loss: 0.0012 - val_accuracy: 1.0000\n",
      "Epoch 70/1000\n",
      "189/189 [==============================] - 2s 10ms/step - loss: 0.0509 - accuracy: 0.9814 - val_loss: 0.0020 - val_accuracy: 1.0000\n",
      "Epoch 71/1000\n",
      "189/189 [==============================] - 2s 11ms/step - loss: 0.0559 - accuracy: 0.9810 - val_loss: 0.0028 - val_accuracy: 0.9984\n",
      "Epoch 72/1000\n",
      "189/189 [==============================] - 2s 11ms/step - loss: 0.0513 - accuracy: 0.9808 - val_loss: 0.0020 - val_accuracy: 0.9984\n",
      "Epoch 73/1000\n",
      "189/189 [==============================] - 2s 10ms/step - loss: 0.0714 - accuracy: 0.9763 - val_loss: 0.0028 - val_accuracy: 1.0000\n",
      "Epoch 74/1000\n",
      "189/189 [==============================] - 2s 11ms/step - loss: 0.0589 - accuracy: 0.9770 - val_loss: 0.0016 - val_accuracy: 1.0000\n",
      "Epoch 75/1000\n",
      "189/189 [==============================] - 2s 10ms/step - loss: 0.0586 - accuracy: 0.9783 - val_loss: 0.0019 - val_accuracy: 0.9992\n",
      "Epoch 76/1000\n",
      "189/189 [==============================] - 2s 10ms/step - loss: 0.0531 - accuracy: 0.9823 - val_loss: 0.0110 - val_accuracy: 0.9992\n",
      "Epoch 77/1000\n",
      "189/189 [==============================] - 2s 9ms/step - loss: 0.0576 - accuracy: 0.9801 - val_loss: 0.0015 - val_accuracy: 0.9992\n",
      "Epoch 78/1000\n",
      "189/189 [==============================] - 2s 10ms/step - loss: 0.0470 - accuracy: 0.9831 - val_loss: 0.0027 - val_accuracy: 0.9992\n",
      "Epoch 79/1000\n",
      "189/189 [==============================] - 2s 10ms/step - loss: 0.0467 - accuracy: 0.9829 - val_loss: 0.0013 - val_accuracy: 0.9992\n",
      "Epoch 80/1000\n",
      "189/189 [==============================] - 2s 9ms/step - loss: 0.0501 - accuracy: 0.9829 - val_loss: 0.0016 - val_accuracy: 0.9992\n",
      "Epoch 81/1000\n",
      "189/189 [==============================] - 2s 9ms/step - loss: 0.0523 - accuracy: 0.9810 - val_loss: 0.0017 - val_accuracy: 0.9992\n",
      "Epoch 82/1000\n",
      "189/189 [==============================] - 2s 9ms/step - loss: 0.0507 - accuracy: 0.9810 - val_loss: 0.0017 - val_accuracy: 0.9992\n",
      "Epoch 83/1000\n",
      "189/189 [==============================] - 2s 9ms/step - loss: 0.0540 - accuracy: 0.9811 - val_loss: 0.0015 - val_accuracy: 1.0000\n",
      "Epoch 84/1000\n",
      "189/189 [==============================] - 2s 10ms/step - loss: 0.0495 - accuracy: 0.9823 - val_loss: 0.0022 - val_accuracy: 1.0000\n",
      "Epoch 85/1000\n",
      "189/189 [==============================] - 2s 10ms/step - loss: 0.0467 - accuracy: 0.9838 - val_loss: 0.0012 - val_accuracy: 1.0000\n",
      "Epoch 86/1000\n",
      "189/189 [==============================] - 2s 10ms/step - loss: 0.0635 - accuracy: 0.9742 - val_loss: 0.0013 - val_accuracy: 1.0000\n",
      "Epoch 87/1000\n",
      "189/189 [==============================] - 2s 9ms/step - loss: 0.0568 - accuracy: 0.9800 - val_loss: 0.0122 - val_accuracy: 0.9992\n",
      "Epoch 88/1000\n",
      "189/189 [==============================] - 2s 10ms/step - loss: 0.0590 - accuracy: 0.9753 - val_loss: 0.0014 - val_accuracy: 1.0000\n",
      "Epoch 89/1000\n",
      "189/189 [==============================] - 2s 9ms/step - loss: 0.0595 - accuracy: 0.9788 - val_loss: 0.0028 - val_accuracy: 1.0000\n",
      "Epoch 90/1000\n",
      "189/189 [==============================] - 2s 11ms/step - loss: 0.0548 - accuracy: 0.9791 - val_loss: 0.0013 - val_accuracy: 1.0000\n",
      "Epoch 91/1000\n",
      "189/189 [==============================] - 2s 9ms/step - loss: 0.0581 - accuracy: 0.9810 - val_loss: 0.0014 - val_accuracy: 1.0000\n",
      "Epoch 92/1000\n",
      "189/189 [==============================] - 2s 10ms/step - loss: 0.0471 - accuracy: 0.9814 - val_loss: 0.0015 - val_accuracy: 0.9992\n",
      "Epoch 93/1000\n",
      "189/189 [==============================] - 2s 9ms/step - loss: 0.0567 - accuracy: 0.9816 - val_loss: 0.0043 - val_accuracy: 1.0000\n",
      "Epoch 94/1000\n",
      "189/189 [==============================] - 2s 10ms/step - loss: 0.0529 - accuracy: 0.9836 - val_loss: 8.2914e-04 - val_accuracy: 1.0000\n",
      "Epoch 95/1000\n",
      "189/189 [==============================] - 2s 9ms/step - loss: 0.0528 - accuracy: 0.9816 - val_loss: 0.0018 - val_accuracy: 0.9992\n",
      "Epoch 96/1000\n",
      "189/189 [==============================] - 2s 9ms/step - loss: 0.0418 - accuracy: 0.9851 - val_loss: 0.0017 - val_accuracy: 1.0000\n",
      "Epoch 97/1000\n",
      "189/189 [==============================] - 2s 10ms/step - loss: 0.0586 - accuracy: 0.9791 - val_loss: 0.0040 - val_accuracy: 0.9992\n",
      "Epoch 98/1000\n",
      "189/189 [==============================] - 2s 11ms/step - loss: 0.0458 - accuracy: 0.9824 - val_loss: 0.0020 - val_accuracy: 0.9992\n",
      "Epoch 99/1000\n",
      "189/189 [==============================] - 2s 11ms/step - loss: 0.0642 - accuracy: 0.9770 - val_loss: 0.0011 - val_accuracy: 1.0000\n",
      "Epoch 100/1000\n",
      "189/189 [==============================] - 2s 11ms/step - loss: 0.0682 - accuracy: 0.9773 - val_loss: 0.0037 - val_accuracy: 1.0000\n",
      "Epoch 101/1000\n",
      "189/189 [==============================] - 2s 11ms/step - loss: 0.0814 - accuracy: 0.9760 - val_loss: 0.0012 - val_accuracy: 1.0000\n",
      "Epoch 102/1000\n",
      "189/189 [==============================] - 2s 11ms/step - loss: 0.0533 - accuracy: 0.9813 - val_loss: 0.0011 - val_accuracy: 1.0000\n",
      "Epoch 103/1000\n",
      "189/189 [==============================] - 2s 10ms/step - loss: 0.0583 - accuracy: 0.9834 - val_loss: 0.0025 - val_accuracy: 1.0000\n",
      "Epoch 104/1000\n",
      "189/189 [==============================] - 2s 11ms/step - loss: 0.0507 - accuracy: 0.9821 - val_loss: 0.0016 - val_accuracy: 1.0000\n",
      "Epoch 105/1000\n",
      "189/189 [==============================] - 2s 10ms/step - loss: 0.0546 - accuracy: 0.9788 - val_loss: 0.0016 - val_accuracy: 1.0000\n",
      "Epoch 106/1000\n",
      "189/189 [==============================] - 2s 10ms/step - loss: 0.0545 - accuracy: 0.9833 - val_loss: 0.0038 - val_accuracy: 1.0000\n",
      "Epoch 107/1000\n",
      "189/189 [==============================] - 2s 10ms/step - loss: 0.0456 - accuracy: 0.9824 - val_loss: 0.0018 - val_accuracy: 1.0000\n",
      "Epoch 108/1000\n",
      "189/189 [==============================] - 2s 10ms/step - loss: 0.0546 - accuracy: 0.9801 - val_loss: 0.0016 - val_accuracy: 1.0000\n",
      "Epoch 109/1000\n",
      "189/189 [==============================] - 2s 11ms/step - loss: 0.0551 - accuracy: 0.9808 - val_loss: 0.0016 - val_accuracy: 1.0000\n",
      "Epoch 110/1000\n",
      "189/189 [==============================] - 2s 13ms/step - loss: 0.0488 - accuracy: 0.9816 - val_loss: 0.0013 - val_accuracy: 1.0000\n",
      "Epoch 111/1000\n",
      "189/189 [==============================] - 3s 14ms/step - loss: 0.0599 - accuracy: 0.9803 - val_loss: 0.0028 - val_accuracy: 1.0000\n",
      "Epoch 112/1000\n",
      "189/189 [==============================] - 3s 13ms/step - loss: 0.0517 - accuracy: 0.9824 - val_loss: 0.0013 - val_accuracy: 1.0000\n",
      "Epoch 113/1000\n"
     ]
    },
    {
     "name": "stdout",
     "output_type": "stream",
     "text": [
      "189/189 [==============================] - 3s 13ms/step - loss: 0.0470 - accuracy: 0.9826 - val_loss: 0.0014 - val_accuracy: 1.0000\n",
      "Epoch 114/1000\n",
      "189/189 [==============================] - 2s 13ms/step - loss: 0.0546 - accuracy: 0.9806 - val_loss: 7.1303e-04 - val_accuracy: 1.0000\n",
      "Epoch 115/1000\n",
      "189/189 [==============================] - 2s 12ms/step - loss: 0.0512 - accuracy: 0.9824 - val_loss: 0.0018 - val_accuracy: 1.0000\n",
      "Epoch 116/1000\n",
      "189/189 [==============================] - 2s 12ms/step - loss: 0.0565 - accuracy: 0.9795 - val_loss: 0.0016 - val_accuracy: 1.0000\n",
      "Epoch 117/1000\n",
      "189/189 [==============================] - 2s 12ms/step - loss: 0.0578 - accuracy: 0.9791 - val_loss: 0.0025 - val_accuracy: 1.0000\n",
      "Epoch 118/1000\n",
      "189/189 [==============================] - 2s 13ms/step - loss: 0.0450 - accuracy: 0.9846 - val_loss: 0.0011 - val_accuracy: 1.0000\n",
      "Epoch 119/1000\n",
      "189/189 [==============================] - 2s 11ms/step - loss: 0.0673 - accuracy: 0.9761 - val_loss: 0.0023 - val_accuracy: 1.0000\n",
      "Epoch 120/1000\n",
      "189/189 [==============================] - 2s 10ms/step - loss: 0.0441 - accuracy: 0.9824 - val_loss: 0.0011 - val_accuracy: 1.0000\n",
      "Epoch 121/1000\n",
      "189/189 [==============================] - 2s 10ms/step - loss: 0.0426 - accuracy: 0.9861 - val_loss: 0.0011 - val_accuracy: 1.0000\n",
      "Epoch 122/1000\n",
      "189/189 [==============================] - 2s 10ms/step - loss: 0.0434 - accuracy: 0.9838 - val_loss: 0.0010 - val_accuracy: 1.0000\n",
      "Epoch 123/1000\n",
      "189/189 [==============================] - 2s 10ms/step - loss: 0.0603 - accuracy: 0.9819 - val_loss: 0.0024 - val_accuracy: 1.0000\n",
      "Epoch 124/1000\n",
      "189/189 [==============================] - 2s 11ms/step - loss: 0.0524 - accuracy: 0.9824 - val_loss: 0.0013 - val_accuracy: 1.0000\n",
      "Epoch 125/1000\n",
      "189/189 [==============================] - 2s 10ms/step - loss: 0.0523 - accuracy: 0.9858 - val_loss: 0.0021 - val_accuracy: 1.0000\n",
      "Epoch 126/1000\n",
      "189/189 [==============================] - 2s 10ms/step - loss: 0.0475 - accuracy: 0.9828 - val_loss: 9.8397e-04 - val_accuracy: 0.9992\n",
      "Epoch 127/1000\n",
      "189/189 [==============================] - 2s 10ms/step - loss: 0.0518 - accuracy: 0.9816 - val_loss: 0.0019 - val_accuracy: 1.0000\n",
      "Epoch 128/1000\n",
      "189/189 [==============================] - 2s 10ms/step - loss: 0.0528 - accuracy: 0.9808 - val_loss: 0.0012 - val_accuracy: 0.9992\n",
      "Epoch 129/1000\n",
      "189/189 [==============================] - 2s 10ms/step - loss: 0.0591 - accuracy: 0.9770 - val_loss: 9.2647e-04 - val_accuracy: 0.9992\n",
      "Epoch 130/1000\n",
      "189/189 [==============================] - 2s 10ms/step - loss: 0.0494 - accuracy: 0.9800 - val_loss: 0.0028 - val_accuracy: 0.9992\n",
      "Epoch 131/1000\n",
      "189/189 [==============================] - 2s 10ms/step - loss: 0.0531 - accuracy: 0.9803 - val_loss: 0.0018 - val_accuracy: 0.9992\n",
      "Epoch 132/1000\n",
      "189/189 [==============================] - 2s 10ms/step - loss: 0.0679 - accuracy: 0.9783 - val_loss: 0.0014 - val_accuracy: 0.9992\n",
      "Epoch 133/1000\n",
      "189/189 [==============================] - 2s 10ms/step - loss: 0.0634 - accuracy: 0.9783 - val_loss: 7.4367e-04 - val_accuracy: 1.0000\n",
      "Epoch 134/1000\n",
      "189/189 [==============================] - 2s 10ms/step - loss: 0.0531 - accuracy: 0.9834 - val_loss: 0.0017 - val_accuracy: 0.9992\n",
      "Epoch 135/1000\n",
      "189/189 [==============================] - 2s 10ms/step - loss: 0.0518 - accuracy: 0.9836 - val_loss: 0.0017 - val_accuracy: 1.0000\n",
      "Epoch 136/1000\n",
      "189/189 [==============================] - 2s 10ms/step - loss: 0.0472 - accuracy: 0.9834 - val_loss: 0.0017 - val_accuracy: 0.9992\n",
      "Epoch 137/1000\n",
      "189/189 [==============================] - 2s 10ms/step - loss: 0.0588 - accuracy: 0.9786 - val_loss: 0.0015 - val_accuracy: 1.0000\n",
      "Epoch 138/1000\n",
      "189/189 [==============================] - 2s 10ms/step - loss: 0.0497 - accuracy: 0.9828 - val_loss: 0.0021 - val_accuracy: 1.0000\n",
      "Epoch 139/1000\n",
      "189/189 [==============================] - 2s 10ms/step - loss: 0.0516 - accuracy: 0.9824 - val_loss: 0.0021 - val_accuracy: 1.0000\n",
      "Epoch 140/1000\n",
      "189/189 [==============================] - 2s 10ms/step - loss: 0.0435 - accuracy: 0.9854 - val_loss: 0.0018 - val_accuracy: 0.9992\n",
      "Epoch 141/1000\n",
      "189/189 [==============================] - 2s 10ms/step - loss: 0.0552 - accuracy: 0.9778 - val_loss: 0.0017 - val_accuracy: 1.0000\n",
      "Epoch 142/1000\n",
      "189/189 [==============================] - 2s 10ms/step - loss: 0.0413 - accuracy: 0.9853 - val_loss: 8.4530e-04 - val_accuracy: 1.0000\n",
      "Epoch 143/1000\n",
      "189/189 [==============================] - 2s 10ms/step - loss: 0.0454 - accuracy: 0.9849 - val_loss: 0.0013 - val_accuracy: 1.0000\n",
      "Epoch 144/1000\n",
      "189/189 [==============================] - 2s 10ms/step - loss: 0.0584 - accuracy: 0.9775 - val_loss: 0.0017 - val_accuracy: 1.0000\n",
      "Epoch 144: early stopping\n"
     ]
    }
   ],
   "source": [
    "history = model.fit(X_train, y_train, validation_data=(X_test, y_test),batch_size=32, epochs=1000, callbacks=callback)"
   ]
  },
  {
   "cell_type": "code",
   "execution_count": 57,
   "id": "01332e63",
   "metadata": {},
   "outputs": [
    {
     "data": {
      "image/png": "[encoded data removed]",
      "text/plain": [
       "<Figure size 640x480 with 1 Axes>"
      ]
     },
     "metadata": {},
     "output_type": "display_data"
    }
   ],
   "source": [
    "plt.plot(history.history['loss'],\n",
    "         'b',\n",
    "         label='Training loss')\n",
    "plt.plot(history.history['val_loss'],\n",
    "         'r',\n",
    "         label='Validation loss')\n",
    "plt.legend(loc='upper right')\n",
    "plt.xlabel('Epochs')\n",
    "plt.ylabel('Loss, [mse]')\n",
    "plt.ylim([0,.1])\n",
    "plt.show()"
   ]
  },
  {
   "cell_type": "code",
   "execution_count": 64,
   "id": "0d65cf67",
   "metadata": {},
   "outputs": [
    {
     "data": {
      "image/png": "[encoded data removed]",
      "text/plain": [
       "<Figure size 640x480 with 1 Axes>"
      ]
     },
     "metadata": {},
     "output_type": "display_data"
    }
   ],
   "source": [
    "plt.plot(history.history['accuracy'],\n",
    "         'b',\n",
    "         label='Training accuracy')\n",
    "plt.plot(history.history['val_accuracy'],\n",
    "         'r',\n",
    "         label='Validation accuracy')\n",
    "plt.legend(loc='upper right')\n",
    "plt.xlabel('Epochs')\n",
    "plt.ylabel('Accuracy')\n",
    "#plt.ylim([0,.1])\n",
    "plt.show()"
   ]
  },
  {
   "cell_type": "code",
   "execution_count": 63,
   "id": "9c94d5de",
   "metadata": {},
   "outputs": [
    {
     "data": {
      "text/plain": [
       "dict_keys(['loss', 'accuracy', 'val_loss', 'val_accuracy'])"
      ]
     },
     "execution_count": 63,
     "metadata": {},
     "output_type": "execute_result"
    }
   ],
   "source": [
    "history.history.keys()"
   ]
  },
  {
   "cell_type": "code",
   "execution_count": 84,
   "id": "2d088377",
   "metadata": {},
   "outputs": [
    {
     "name": "stdout",
     "output_type": "stream",
     "text": [
      "40/40 [==============================] - 0s 3ms/step\n"
     ]
    }
   ],
   "source": [
    "y_pred = model.predict(X_test).reshape(-1)"
   ]
  },
  {
   "cell_type": "code",
   "execution_count": 85,
   "id": "72cbc919",
   "metadata": {},
   "outputs": [
    {
     "data": {
      "text/plain": [
       "array([0.00121519, 0.00121519, 0.00121519, ..., 1.        , 1.        ,\n",
       "       0.9124426 ], dtype=float32)"
      ]
     },
     "execution_count": 85,
     "metadata": {},
     "output_type": "execute_result"
    }
   ],
   "source": [
    "y_pred"
   ]
  },
  {
   "cell_type": "code",
   "execution_count": 86,
   "id": "189904c7",
   "metadata": {},
   "outputs": [
    {
     "data": {
      "text/plain": [
       "array([0.00121519, 0.04479153, 0.06436075, 0.38688597, 0.9124426 ,\n",
       "       0.95105916, 0.96208215, 0.9817353 , 0.98269385, 0.98672664,\n",
       "       0.9901038 , 0.9921336 , 0.9933583 , 0.99661463, 0.99879754,\n",
       "       0.99917465, 0.9993807 , 0.999532  , 0.9997235 , 0.9997347 ,\n",
       "       0.99984026, 0.9999467 , 0.9999566 , 0.9999579 , 0.99998033,\n",
       "       0.9999889 , 0.99999   , 0.99999034, 0.9999907 , 0.9999939 ,\n",
       "       0.9999944 , 0.99999654, 0.9999994 , 0.9999995 , 1.        ],\n",
       "      dtype=float32)"
      ]
     },
     "execution_count": 86,
     "metadata": {},
     "output_type": "execute_result"
    }
   ],
   "source": [
    "np.unique(y_pred)"
   ]
  },
  {
   "cell_type": "code",
   "execution_count": 87,
   "id": "1bf0284f",
   "metadata": {},
   "outputs": [],
   "source": [
    "def prediction_(num):\n",
    "    if num < 0.5:\n",
    "        return 0\n",
    "    else:\n",
    "        1"
   ]
  },
  {
   "cell_type": "code",
   "execution_count": 80,
   "id": "58ec28b3",
   "metadata": {},
   "outputs": [
    {
     "data": {
      "text/plain": [
       "array([0, 0, 0, ..., 1, 1, 1], dtype=int64)"
      ]
     },
     "execution_count": 80,
     "metadata": {},
     "output_type": "execute_result"
    }
   ],
   "source": [
    "y_test"
   ]
  },
  {
   "cell_type": "code",
   "execution_count": 95,
   "id": "34b2fe00",
   "metadata": {},
   "outputs": [],
   "source": [
    "y_pred = np.array([0 if x <= 0.5 else 1 for x in y_pred ])"
   ]
  },
  {
   "cell_type": "code",
   "execution_count": 96,
   "id": "172c867c",
   "metadata": {},
   "outputs": [
    {
     "data": {
      "text/plain": [
       "array([0, 1])"
      ]
     },
     "execution_count": 96,
     "metadata": {},
     "output_type": "execute_result"
    }
   ],
   "source": [
    "np.unique(y_pred)"
   ]
  },
  {
   "cell_type": "code",
   "execution_count": 98,
   "id": "7b91042c",
   "metadata": {},
   "outputs": [],
   "source": [
    "from sklearn.metrics import confusion_matrix,classification_report "
   ]
  },
  {
   "cell_type": "code",
   "execution_count": 99,
   "id": "052efc67",
   "metadata": {},
   "outputs": [
    {
     "data": {
      "text/plain": [
       "array([[1109,    0],\n",
       "       [   0,  162]], dtype=int64)"
      ]
     },
     "execution_count": 99,
     "metadata": {},
     "output_type": "execute_result"
    }
   ],
   "source": [
    "confusion_matrix(y_test,y_pred)"
   ]
  },
  {
   "cell_type": "code",
   "execution_count": 101,
   "id": "6c7047d2",
   "metadata": {},
   "outputs": [
    {
     "name": "stdout",
     "output_type": "stream",
     "text": [
      "              precision    recall  f1-score   support\n",
      "\n",
      "           0       1.00      1.00      1.00      1109\n",
      "           1       1.00      1.00      1.00       162\n",
      "\n",
      "    accuracy                           1.00      1271\n",
      "   macro avg       1.00      1.00      1.00      1271\n",
      "weighted avg       1.00      1.00      1.00      1271\n",
      "\n"
     ]
    }
   ],
   "source": [
    "print(classification_report(y_test,y_pred))"
   ]
  }
 ],
 "metadata": {
  "kernelspec": {
   "display_name": "Python 3 (ipykernel)",
   "language": "python",
   "name": "python3"
  },
  "language_info": {
   "codemirror_mode": {
    "name": "ipython",
    "version": 3
   },
   "file_extension": ".py",
   "mimetype": "text/x-python",
   "name": "python",
   "nbconvert_exporter": "python",
   "pygments_lexer": "ipython3",
   "version": "3.10.9"
  }
 },
 "nbformat": 4,
 "nbformat_minor": 5
}
